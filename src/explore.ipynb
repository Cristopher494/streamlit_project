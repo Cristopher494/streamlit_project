{
    "cells": [
        {
            "cell_type": "markdown",
            "metadata": {},
            "source": [
                "# Explore here"
            ]
        },
        {
            "cell_type": "code",
            "execution_count": 27,
            "metadata": {},
            "outputs": [
                {
                    "data": {
                        "image/png": "[encoded data removed]",
                        "text/plain": [
                            "<Figure size 1000x700 with 2 Axes>"
                        ]
                    },
                    "metadata": {},
                    "output_type": "display_data"
                }
            ],
            "source": [
                "import seaborn as sns\n",
                "from sklearn.metrics import confusion_matrix\n",
                "import streamlit as st\n",
                "import pandas as pd\n",
                "import matplotlib.pyplot as plt\n",
                "from sklearn.metrics import confusion_matrix\n",
                "\n",
                "def mostrar_matriz_confusion():\n",
                "    st.header(\"Matriz de Confusión\")\n",
                "    st.write(\"La matriz de confusión permite visualizar el desempeño del modelo clasificando cada clase.\")\n",
                "\n",
                "    # Cargar los datos desde los archivos CSV\n",
                "    data = pd.read_csv('./archivos/test_df.csv')\n",
                "    data2 = pd.read_csv('./archivos/predictions.csv')\n",
                "\n",
                "    # Convertir las columnas relevantes a tipo entero\n",
                "    y_test = data['class'].astype(int)\n",
                "    y_pred_proba = data2['0'].astype(float)  # Probabilidades\n",
                "\n",
                "    # Convertir probabilidades a clases binarias usando un umbral de 0.5\n",
                "    umbral = 0.4\n",
                "    y_pred = (y_pred_proba > umbral).astype(int)\n",
                "\n",
                "    # Calcular la matriz de confusión\n",
                "    cm = confusion_matrix(y_test, y_pred)\n",
                "\n",
                "    # Graficar la matriz de confusión\n",
                "    plt.figure(figsize=(10, 7))\n",
                "    sns.heatmap(cm, annot=True, fmt='d', cmap='Blues')\n",
                "    plt.xlabel('Predicción')\n",
                "    plt.ylabel('Real')\n",
                "    plt.title('Matriz de Confusión')\n",
                "    plt.show()\n",
                "    # Mostrar la gráfica en Streamlit\n",
                "    #st.pyplot(plt)\n",
                "\n",
                "if __name__ == \"__main__\":\n",
                "    mostrar_matriz_confusion()"
            ]
        },
        {
            "cell_type": "code",
            "execution_count": 16,
            "metadata": {},
            "outputs": [],
            "source": [
                "import seaborn as sns\n",
                "from sklearn.metrics import confusion_matrix\n",
                "import streamlit as st\n",
                "import pandas as pd\n",
                "import matplotlib.pyplot as plt"
            ]
        },
        {
            "cell_type": "code",
            "execution_count": 14,
            "metadata": {},
            "outputs": [],
            "source": [
                "def display_confusion_matrix():\n",
                "    st.header(\"Matriz de Confusión\")\n",
                "    st.write(\"La matriz de confusión permite visualizar el desempeño del modelo clasificando cada clase.\")\n",
                "\n",
                "    data = pd.read_csv('./archivos/test_df.csv')\n",
                "    data2 = pd.read_csv('./archivos/predictions.csv')\n",
                "\n",
                "    data['class'] = data['class'].astype(int)\n",
                "    data2['0'] = data2['0'].astype(int)\n",
                "\n",
                "\n",
                "   "
            ]
        },
        {
            "cell_type": "code",
            "execution_count": 17,
            "metadata": {},
            "outputs": [],
            "source": [
                "data = pd.read_csv('./archivos/test_df.csv')\n",
                "data2 = pd.read_csv('./archivos/predictions.csv')\n",
                "\n",
                "data['class'] = data['class'].astype(int)\n",
                "data2['0'] = data2['0'].astype(int)"
            ]
        },
        {
            "cell_type": "code",
            "execution_count": 18,
            "metadata": {},
            "outputs": [],
            "source": [
                "y_test = data['class']\n",
                "y_pred = data2['0']"
            ]
        },
        {
            "cell_type": "code",
            "execution_count": 21,
            "metadata": {},
            "outputs": [
                {
                    "name": "stdout",
                    "output_type": "stream",
                    "text": [
                        "0     0\n",
                        "1     0\n",
                        "2     0\n",
                        "3     0\n",
                        "4     0\n",
                        "5     0\n",
                        "6     0\n",
                        "7     0\n",
                        "8     0\n",
                        "9     0\n",
                        "10    0\n",
                        "11    0\n",
                        "12    0\n",
                        "13    0\n",
                        "14    0\n",
                        "15    0\n",
                        "16    0\n",
                        "17    0\n",
                        "18    0\n",
                        "19    0\n",
                        "20    0\n",
                        "21    0\n",
                        "22    0\n",
                        "23    0\n",
                        "24    0\n",
                        "25    0\n",
                        "26    0\n",
                        "27    0\n",
                        "28    0\n",
                        "29    0\n",
                        "30    0\n",
                        "31    0\n",
                        "32    0\n",
                        "33    0\n",
                        "34    0\n",
                        "35    0\n",
                        "36    0\n",
                        "37    0\n",
                        "38    0\n",
                        "39    0\n",
                        "40    0\n",
                        "41    0\n",
                        "42    0\n",
                        "43    0\n",
                        "44    0\n",
                        "45    0\n",
                        "46    0\n",
                        "47    0\n",
                        "48    0\n",
                        "49    0\n",
                        "Name: 0, dtype: int32\n"
                    ]
                }
            ],
            "source": [
                "#print(data['class'])\n",
                "print(data2['0'][:50])"
            ]
        },
        {
            "cell_type": "code",
            "execution_count": null,
            "metadata": {},
            "outputs": [],
            "source": [
                " # Ejemplo de datos de prueba y predicciones\n",
                "    y_test = data['class']\n",
                "    y_pred = data2['0']\n",
                "\n",
                "    cm = confusion_matrix(y_test, y_pred)\n",
                "    plt.figure(figsize=(10, 7))\n",
                "    sns.heatmap(cm, annot=True, fmt='d', cmap='Blues')\n",
                "    plt.xlabel('Predicción')\n",
                "    plt.ylabel('Real')\n",
                "    plt.title('Matriz de Confusión')\n",
                "    plt.show\n",
                "\n",
                "if __name__ == \"__main__\":\n",
                "    display_confusion_matrix()"
            ]
        }
    ],
    "metadata": {
        "kernelspec": {
            "display_name": "Python 3.8.13 64-bit ('3.8.13')",
            "language": "python",
            "name": "python3"
        },
        "language_info": {
            "codemirror_mode": {
                "name": "ipython",
                "version": 3
            },
            "file_extension": ".py",
            "mimetype": "text/x-python",
            "name": "python",
            "nbconvert_exporter": "python",
            "pygments_lexer": "ipython3",
            "version": "3.12.2"
        },
        "orig_nbformat": 4,
        "vscode": {
            "interpreter": {
                "hash": "110cc1dee26208153f2972f08a2ad52b6a56238dc66d48e87fb757ef2996db56"
            }
        }
    },
    "nbformat": 4,
    "nbformat_minor": 2
}
